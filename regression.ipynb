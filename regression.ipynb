{
 "cells": [
  {
   "cell_type": "markdown",
   "metadata": {
    "id": "kDg9hUbOtTbq"
   },
   "source": [
    "# RETO REGRESIÓN\n",
    "\n",
    "**Santiago Velásquez Hernández (CC. 1.036.647.710; santiago.velasquez4@udea.edu.co)**\n",
    "\n",
    "**Carolina González Marín (CC. 1.017.251.647; carolina.gonzalezm1@udea.edu.co)**"
   ]
  },
  {
   "cell_type": "code",
   "execution_count": 1,
   "metadata": {},
   "outputs": [],
   "source": [
    "import os\n",
    "from functools import partial\n",
    "import joblib\n",
    "import data\n",
    "import metrics\n",
    "\n",
    "import numpy as np\n",
    "import missingno as msno\n",
    "import matplotlib.pyplot as plt\n",
    "import seaborn as sns\n",
    "import pandas as pd\n",
    "import requests\n",
    "import json"
   ]
  },
  {
   "cell_type": "code",
   "execution_count": 2,
   "metadata": {},
   "outputs": [],
   "source": [
    "def evaluate_model(*, model, metric, X_train, y_train, X_test, y_test):\n",
    "    train_predictions = model.predict(X_train)\n",
    "    test_predictions = model.predict(X_test)\n",
    "    train_error = metric(y_train, train_predictions)\n",
    "    test_error = metric(y_test, test_predictions)\n",
    "    return {\n",
    "        \"train_predictions\": train_predictions,\n",
    "        \"test_predictions\": test_predictions,\n",
    "        \"train_error\": train_error,\n",
    "        \"test_error\": test_error\n",
    "    }\n",
    "\n",
    "def print_report(*, model, evaluation):\n",
    "    print(f\"Model used:\\n\\t{reg}\")\n",
    "    print(f\"Error:\\n\\ttrain set {evaluation['train_error']}\\n\\ttest error: {evaluation['test_error']}\")"
   ]
  },
  {
   "cell_type": "code",
   "execution_count": 3,
   "metadata": {},
   "outputs": [],
   "source": [
    "train = pd.read_csv(\"./data/train_regression.csv\")"
   ]
  },
  {
   "cell_type": "code",
   "execution_count": 4,
   "metadata": {},
   "outputs": [
    {
     "data": {
      "text/plain": [
       "{'train': (     age     sex     bmi children smoker     region\n",
       "  585   41    male  28.405        1     no  northwest\n",
       "  765   51    male  37.000        0     no  southwest\n",
       "  577   47    male  29.800        3    yes  southwest\n",
       "  247   27  female  21.470        0     no  northwest\n",
       "  452   50  female  27.830        3     no  southeast\n",
       "  ..   ...     ...     ...      ...    ...        ...\n",
       "  715   51  female  21.560        1     no  southeast\n",
       "  767   53    male  34.105        0    yes  northeast\n",
       "  72    35    male  17.860        1     no  northwest\n",
       "  235   62    male  37.400        0     no  southwest\n",
       "  37    31  female  25.740        0     no  southeast\n",
       "  \n",
       "  [627 rows x 6 columns],\n",
       "  585     6664.68595\n",
       "  765     8798.59300\n",
       "  577    25309.48900\n",
       "  247     3353.47030\n",
       "  452    19749.38338\n",
       "            ...     \n",
       "  715     9855.13140\n",
       "  767    43254.41795\n",
       "  72      5116.50040\n",
       "  235    12979.35800\n",
       "  37      3756.62160\n",
       "  Name: y, Length: 627, dtype: float64),\n",
       " 'test': (     age     sex     bmi children smoker     region\n",
       "  84    41  female  37.100        2     no  southwest\n",
       "  688   18    male  33.535        0    yes  northeast\n",
       "  142   48    male  32.300        1     no  northwest\n",
       "  794   64    male  26.410        0     no  northeast\n",
       "  744   22  female  20.235        0     no  northwest\n",
       "  ..   ...     ...     ...      ...    ...        ...\n",
       "  257   31  female  32.680        1     no  northwest\n",
       "  161   19  female  30.020        0    yes  northwest\n",
       "  641   55  female  32.395        1     no  northeast\n",
       "  543   20    male  28.025        1    yes  northwest\n",
       "  722   60  female  38.060        0     no  southeast\n",
       "  \n",
       "  [269 rows x 6 columns],\n",
       "  84      7371.77200\n",
       "  688    34617.84065\n",
       "  142     8765.24900\n",
       "  794    14394.55790\n",
       "  744     2527.81865\n",
       "            ...     \n",
       "  257     4738.26820\n",
       "  161    33307.55080\n",
       "  641    11879.10405\n",
       "  543    17560.37975\n",
       "  722    12648.70340\n",
       "  Name: y, Length: 269, dtype: float64)}"
      ]
     },
     "execution_count": 4,
     "metadata": {},
     "output_type": "execute_result"
    }
   ],
   "source": [
    "# Partición del conjunto de datos\n",
    "\n",
    "dataset_path = \"./data/train_regression.csv\"\n",
    "data = data.get_dataset(\n",
    "    partial(pd.read_csv, filepath_or_buffer=dataset_path),\n",
    "    splits=(\"train\", \"test\")\n",
    ")\n",
    "data"
   ]
  },
  {
   "cell_type": "markdown",
   "metadata": {},
   "source": [
    "# Análisis Exploratorio de Datos"
   ]
  },
  {
   "cell_type": "markdown",
   "metadata": {},
   "source": [
    "Queremos realizar un modelo de predicción de seguros médicos en función de ciertas características que se verán más adelante. Para esto, se realiza una exploración inicial de los datos para hacernos una idea de la apariencia y estructura de los mismos de forma que se pueda realizar el modelo. "
   ]
  },
  {
   "cell_type": "code",
   "execution_count": 5,
   "metadata": {
    "scrolled": false
   },
   "outputs": [
    {
     "name": "stdout",
     "output_type": "stream",
     "text": [
      "DATASET\n",
      "     age     sex     bmi  children smoker     region            y\n",
      "0     43  female  25.080         0     no  northeast   7325.04820\n",
      "1     39    male  35.300         2    yes  southwest  40103.89000\n",
      "2     45  female  30.495         1    yes  northwest  39725.51805\n",
      "3     19  female  32.900         0     no  southwest   1748.77400\n",
      "4     60    male  39.900         0    yes  southwest  48173.36100\n",
      "..   ...     ...     ...       ...    ...        ...          ...\n",
      "891   18  female  31.350         4     no  northeast   4561.18850\n",
      "892   39  female  23.870         5     no  southeast   8582.30230\n",
      "893   58    male  25.175         0     no  northeast  11931.12525\n",
      "894   37  female  47.600         2    yes  southwest  46113.51100\n",
      "895   55    male  29.900         0     no  southwest  10214.63600\n",
      "\n",
      "[896 rows x 7 columns]\n"
     ]
    }
   ],
   "source": [
    "# Visualización del conjunto de datos\n",
    "\n",
    "print('DATASET')\n",
    "print(train)"
   ]
  },
  {
   "cell_type": "code",
   "execution_count": 6,
   "metadata": {
    "scrolled": false
   },
   "outputs": [
    {
     "name": "stdout",
     "output_type": "stream",
     "text": [
      "<class 'pandas.core.frame.DataFrame'>\n",
      "RangeIndex: 896 entries, 0 to 895\n",
      "Data columns (total 7 columns):\n",
      " #   Column    Non-Null Count  Dtype  \n",
      "---  ------    --------------  -----  \n",
      " 0   age       896 non-null    int64  \n",
      " 1   sex       896 non-null    object \n",
      " 2   bmi       896 non-null    float64\n",
      " 3   children  896 non-null    int64  \n",
      " 4   smoker    896 non-null    object \n",
      " 5   region    896 non-null    object \n",
      " 6   y         896 non-null    float64\n",
      "dtypes: float64(2), int64(2), object(3)\n",
      "memory usage: 49.1+ KB\n",
      "None\n"
     ]
    }
   ],
   "source": [
    "# Información tipo de variable \n",
    "\n",
    "print(train.info())"
   ]
  },
  {
   "cell_type": "markdown",
   "metadata": {},
   "source": [
    "Dándole un vistazo general a las variables incluidas en el conjunto de datos, estas se clasifican en tres categorías de acuerdo a su tipo: \n",
    "- **Variables categóricas dummy** (donde el valor de la observación pertenece a una de dos categorías).\n",
    "- **Variables categóricas multiclase**\n",
    "- **Variables numéricas**"
   ]
  },
  {
   "cell_type": "code",
   "execution_count": 7,
   "metadata": {
    "scrolled": false
   },
   "outputs": [],
   "source": [
    "#Variables según su tipo\n",
    "\n",
    "dummy = ['sex', 'smoker']\n",
    "multiclass = ['region']\n",
    "numerics = ['bmi','age','children']"
   ]
  },
  {
   "cell_type": "code",
   "execution_count": 8,
   "metadata": {},
   "outputs": [
    {
     "data": {
      "text/plain": [
       "<AxesSubplot:>"
      ]
     },
     "execution_count": 8,
     "metadata": {},
     "output_type": "execute_result"
    },
    {
     "data": {
      "image/png": "[encoded data removed]",
      "text/plain": [
       "<Figure size 1800x720 with 2 Axes>"
      ]
     },
     "metadata": {
      "needs_background": "light"
     },
     "output_type": "display_data"
    }
   ],
   "source": [
    "#Valores nulos en conjunto de datos\n",
    "\n",
    "msno.matrix(train)"
   ]
  },
  {
   "cell_type": "markdown",
   "metadata": {},
   "source": [
    "Como se puede visualizar en la gráfica anterior, no se observa la presencia de valores nulos en la base de datos. Ahora realizaremos algunas observaciones en cada uno de los tipos de variables."
   ]
  },
  {
   "cell_type": "markdown",
   "metadata": {},
   "source": [
    "## Variables Categóricas"
   ]
  },
  {
   "cell_type": "code",
   "execution_count": 9,
   "metadata": {},
   "outputs": [
    {
     "name": "stdout",
     "output_type": "stream",
     "text": [
      "Variable: sex\n",
      "---------------------------------------------------------------\n",
      "Categoría : male, Nro. observaciones : 459, %: 51.227679\n",
      "Categoría : female, Nro. observaciones : 437, %: 48.772321\n",
      "\n",
      "\n",
      "Variable: smoker\n",
      "---------------------------------------------------------------\n",
      "Categoría : no, Nro. observaciones : 708, %: 79.017857\n",
      "Categoría : yes, Nro. observaciones : 188, %: 20.982143\n",
      "\n",
      "\n"
     ]
    }
   ],
   "source": [
    "#Análisis de Frecuencias para cada una de las variables del conjunto de datos\n",
    "\n",
    "n_entr = len(train)\n",
    "\n",
    "for col in dummy:\n",
    "    print('Variable: {}'.format(col))\n",
    "    print('---------------------------------------------------------------')\n",
    "    s = train[col].value_counts()\n",
    "    for index, value in s.items():\n",
    "        print(\"Categoría : {}, Nro. observaciones : {}, %: {:2f}\".format(index,value,value*100/n_entr))\n",
    "    print('\\n')"
   ]
  },
  {
   "cell_type": "code",
   "execution_count": 11,
   "metadata": {
    "scrolled": false
   },
   "outputs": [
    {
     "name": "stdout",
     "output_type": "stream",
     "text": [
      "Variable: region\n",
      "---------------------------------------------------------------\n",
      "Categoría : northeast, Nro. observaciones : 230, %: 25.669643\n",
      "Categoría : southeast, Nro. observaciones : 229, %: 25.558036\n",
      "Categoría : northwest, Nro. observaciones : 226, %: 25.223214\n",
      "Categoría : southwest, Nro. observaciones : 211, %: 23.549107\n",
      "\n",
      "\n"
     ]
    }
   ],
   "source": [
    "#Análisis de Frecuencias para cada una de las variables categóricas multiclase \n",
    "#del conjunto de datos\n",
    "\n",
    "n_entr = len(train)\n",
    "for col in multiclass:\n",
    "    print('Variable: {}'.format(col))\n",
    "    print('---------------------------------------------------------------')\n",
    "    #print('ENTRENAMIENTO')\n",
    "    s = train[col].value_counts()\n",
    "    for index, value in s.items():\n",
    "        print(\"Categoría : {}, Nro. observaciones : {}, %: {:2f}\".format(index,value,value*100/n_entr))\n",
    "    print('\\n')"
   ]
  },
  {
   "cell_type": "markdown",
   "metadata": {},
   "source": [
    "Al observar la frecuencia de los valores que toman las variables categóricas dummy y multiclase se puede evidenciar que la distribución de las categorías de las variables está balanceada, lo que sugiere que se hará buena partición de los datos originales (en entrenamiento y testeo) y seguramente puede llegar a evitar problemas al momento de generalizar los modelos considerando el balanceo que se observa a simple vista."
   ]
  },
  {
   "cell_type": "code",
   "execution_count": 12,
   "metadata": {
    "scrolled": false
   },
   "outputs": [
    {
     "data": {
      "text/plain": [
       "<AxesSubplot:xlabel='region', ylabel='y'>"
      ]
     },
     "execution_count": 12,
     "metadata": {},
     "output_type": "execute_result"
    },
    {
     "data": {
      "image/png": "[encoded data removed]",
      "text/plain": [
       "<Figure size 1152x432 with 1 Axes>"
      ]
     },
     "metadata": {
      "needs_background": "light"
     },
     "output_type": "display_data"
    }
   ],
   "source": [
    "plt.figure(figsize=(16, 6))\n",
    "sns.boxplot(x='region',y='y',data=train)"
   ]
  },
  {
   "cell_type": "code",
   "execution_count": 13,
   "metadata": {
    "scrolled": false
   },
   "outputs": [
    {
     "data": {
      "text/plain": [
       "<AxesSubplot:xlabel='sex', ylabel='y'>"
      ]
     },
     "execution_count": 13,
     "metadata": {},
     "output_type": "execute_result"
    },
    {
     "data": {
      "image/png": "[encoded data removed]",
      "text/plain": [
       "<Figure size 1152x432 with 1 Axes>"
      ]
     },
     "metadata": {
      "needs_background": "light"
     },
     "output_type": "display_data"
    }
   ],
   "source": [
    "plt.figure(figsize=(16, 6))\n",
    "sns.boxplot(x='sex',y='y',data=train)"
   ]
  },
  {
   "cell_type": "code",
   "execution_count": 14,
   "metadata": {
    "scrolled": false
   },
   "outputs": [
    {
     "data": {
      "text/plain": [
       "<AxesSubplot:xlabel='smoker', ylabel='y'>"
      ]
     },
     "execution_count": 14,
     "metadata": {},
     "output_type": "execute_result"
    },
    {
     "data": {
      "image/png": "[encoded data removed]",
      "text/plain": [
       "<Figure size 1152x432 with 1 Axes>"
      ]
     },
     "metadata": {
      "needs_background": "light"
     },
     "output_type": "display_data"
    }
   ],
   "source": [
    "plt.figure(figsize=(16, 6))\n",
    "sns.boxplot(x='smoker',y='y',data=train)"
   ]
  },
  {
   "cell_type": "markdown",
   "metadata": {},
   "source": [
    "Aparentemente en la región y el sexo no serían un buen diferenciador para estimar el precio del seguro médico debido a que, a simple vista, los diagramas de boxplot muestran una tendencia similar para cada una de las categorías que toman estas variables para el conjunto de datos.\n",
    "\n",
    "Sin embargo, para la variable *smoker*, se observa que el precio del seguro médico tiende a ser más alto para personas fumadoras. "
   ]
  },
  {
   "cell_type": "markdown",
   "metadata": {},
   "source": [
    "## Variables Numéricas"
   ]
  },
  {
   "cell_type": "code",
   "execution_count": 15,
   "metadata": {
    "scrolled": false
   },
   "outputs": [
    {
     "name": "stdout",
     "output_type": "stream",
     "text": [
      "Variable: bmi\n",
      "-------------------\n",
      "Valores: [25.08  35.3   30.495 32.9   39.9   35.6   26.8   35.4   39.93  34.1\n",
      " 26.6   33.33  33.66  30.97  29.355 28.785 24.225 40.375 22.705 29.7\n",
      " 30.115 22.135 50.38  29.735 31.    24.89  33.535 30.78  31.4   29.45\n",
      " 43.01  18.3   37.335 33.63  24.605 25.74  31.6   30.2   36.86  29.3\n",
      " 34.96  36.575 30.59  28.215 36.48  30.4   43.4   41.91  31.73  39.6\n",
      " 35.8   39.1   26.315 40.66  30.875 34.4   36.1   26.695 28.88  25.46\n",
      " 29.48  27.28  24.32  41.14  38.39  39.425 17.86  32.78  19.8   42.24\n",
      " 27.455 23.465 21.7   33.    33.44  24.7   31.065 37.1   28.595 32.775\n",
      " 31.79  23.655 35.91  24.86  23.18  27.72  34.77  28.4   27.5   36.955\n",
      " 32.965 26.73  35.75  28.1   38.    39.995 37.3   21.85  37.73  26.18\n",
      " 23.7   26.41  36.19  28.38  32.3   34.105 27.36  29.83  32.8   34.43\n",
      " 28.12  20.79  35.2   19.19  19.95  26.22  21.945 22.3   31.24  29.26\n",
      " 25.84  38.94  36.67  23.54  24.6   25.175 26.885 47.74  25.8   41.325\n",
      " 20.9   31.255 28.    35.72  38.28  40.26  32.7   23.21  35.53  30.02\n",
      " 29.545 33.3   37.51  33.99  22.61  22.22  33.345 31.54  28.975 40.185\n",
      " 23.2   28.5   31.3   31.35  28.31  36.3   29.6   33.1   29.925 27.075\n",
      " 29.81  34.8   32.015 37.62  28.2   21.755 37.07  20.4   39.4   24.795\n",
      " 37.8   28.7   40.565 29.07  38.83  27.17  20.13  17.29  34.32  38.6\n",
      " 25.365 30.21  26.7   40.37  34.21  36.63  27.83  28.69  26.03  29.2\n",
      " 34.9   22.8   25.4   37.4   33.4   27.74  23.085 36.7   30.1   46.09\n",
      " 24.415 21.47  33.155 26.62  25.3   33.88  21.01  37.18  27.61  32.68\n",
      " 38.06  32.45  31.635 24.3   37.43  30.685 31.16  36.29  26.125 25.555\n",
      " 35.625 21.12  39.49  23.75  21.66  28.93  39.05  27.9   30.5   30.305\n",
      " 27.1   27.835 29.    15.96  28.16  42.13  40.47  36.85  22.515 35.15\n",
      " 32.2   23.98  22.04  27.55  25.9   39.2   33.7   21.89  27.93  29.4\n",
      " 35.86  29.64  17.385 35.31  27.6   25.745 18.905 29.5   31.13  22.1\n",
      " 32.01  38.17  24.51  30.9   35.9   36.765 28.6   41.895 32.395 27.94\n",
      " 31.9   33.82  39.5   28.025 40.28  34.865 43.34  32.1   46.53  17.8\n",
      " 19.855 35.815 40.3   32.11  29.9   33.725 37.05  37.715 23.3   23.32\n",
      " 24.42  46.7   34.485 24.1   26.2   30.14  21.375 34.58  53.13  26.98\n",
      " 17.195 27.4   31.825 22.99  32.205 22.6   18.715 27.645 22.77  26.29\n",
      " 23.8   21.78  26.84  27.265 37.9   43.89  44.    37.29  40.15  44.7\n",
      " 34.5   35.7   27.2   39.7   22.895 30.8   19.3   31.5   44.22  25.85\n",
      " 36.96  32.49  20.235 40.5   23.1   36.08  20.045 31.2   20.52  23.37\n",
      " 34.01  29.92  34.2   38.095 35.97  26.4   22.42  29.15  32.34  28.3\n",
      " 41.8   49.06  24.035 45.9   18.335 31.68  42.4   38.19  38.665 44.88\n",
      " 36.52  36.2   29.8   33.915 34.295 28.405 34.39  32.67  23.56  25.27\n",
      " 18.5   20.425 23.6   25.    23.845 20.1   34.7   31.57  32.87  35.435\n",
      " 19.095 42.75  28.9   20.8   24.09  41.69  21.8   17.67  30.25  37.145\n",
      " 16.815 30.36  23.4   30.3   23.76  39.82  24.13  28.05  39.16  25.935\n",
      " 31.92  21.56  28.82  34.6   20.6   25.52  33.77  26.79  42.9   27.3\n",
      " 33.5   42.46  20.3   20.35  26.07  36.    34.3   37.    44.77  29.04\n",
      " 31.445 31.02  39.615 26.51  24.31  36.195 32.56  25.6   31.46  32.\n",
      " 28.8   23.275 32.23  47.52  41.47  18.6   36.4   39.71  32.12  33.25\n",
      " 31.1   36.005 39.27  25.1   33.11  32.4   28.49  20.615 39.14  19.475\n",
      " 26.505 36.385 35.245 23.87  47.6  ]\n",
      "\n",
      "\n",
      "Variable: age\n",
      "-------------------\n",
      "Valores: [43 39 45 19 60 22 55 62 50 25 63 40 59 23 46 33 36 32 38 20 41 27 26 18\n",
      " 57 54 31 48 21 24 47 44 37 61 58 29 53 42 52 51 35 28 49 56 34 30 64]\n",
      "\n",
      "\n",
      "Variable: children\n",
      "-------------------\n",
      "Valores: [0 2 1 3 5 4]\n",
      "\n",
      "\n"
     ]
    }
   ],
   "source": [
    "#Exploración de valores en las variables numéricas del conjunto de datos\n",
    "\n",
    "for col in numerics:  \n",
    "    print('Variable: {}'.format(col)) \n",
    "    print('-------------------')\n",
    "    print('Valores: {}'.format(train[col].unique()))\n",
    "    print('\\n')"
   ]
  },
  {
   "cell_type": "markdown",
   "metadata": {},
   "source": [
    "La variable *children* es una variable numérica discreta, por lo que se considerará esta como una variable categórica para osbervar su frecuencia"
   ]
  },
  {
   "cell_type": "code",
   "execution_count": 19,
   "metadata": {},
   "outputs": [],
   "source": [
    "#Definición de las variables teniendo en cuenta la consideración anterior\n",
    "\n",
    "numerics = ['bmi','age']\n",
    "multiclass = ['region', 'children']"
   ]
  },
  {
   "cell_type": "code",
   "execution_count": 20,
   "metadata": {},
   "outputs": [],
   "source": [
    "#Cambio de tipo para variable 'children' en ambos conjuntos de datos\n",
    "\n",
    "train['children'] = train['children'].astype(str)"
   ]
  },
  {
   "cell_type": "code",
   "execution_count": 21,
   "metadata": {
    "scrolled": false
   },
   "outputs": [
    {
     "name": "stdout",
     "output_type": "stream",
     "text": [
      "Variable: children\n",
      "\n",
      "Categoría : 0, Nro. observaciones : 383, %: 42.745536\n",
      "Categoría : 1, Nro. observaciones : 217, %: 24.218750\n",
      "Categoría : 2, Nro. observaciones : 160, %: 17.857143\n",
      "Categoría : 3, Nro. observaciones : 107, %: 11.941964\n",
      "Categoría : 4, Nro. observaciones : 18, %: 2.008929\n",
      "Categoría : 5, Nro. observaciones : 11, %: 1.227679\n",
      "\n",
      "\n"
     ]
    }
   ],
   "source": [
    "#Análisis de Frecuencias para la variable children\n",
    "\n",
    "children = ['children']\n",
    "for col in children:\n",
    "    print('Variable: {}\\n'.format(col))\n",
    "    \n",
    "    s = train[col].value_counts()\n",
    "    for index, value in s.items():\n",
    "        print(\"Categoría : {}, Nro. observaciones : {}, %: {:2f}\".format(index,value,value*100/n_entr))\n",
    "    print('\\n')"
   ]
  },
  {
   "cell_type": "code",
   "execution_count": 22,
   "metadata": {
    "scrolled": false
   },
   "outputs": [
    {
     "data": {
      "text/plain": [
       "<AxesSubplot:xlabel='children', ylabel='y'>"
      ]
     },
     "execution_count": 22,
     "metadata": {},
     "output_type": "execute_result"
    },
    {
     "data": {
      "image/png": "[encoded data removed]",
      "text/plain": [
       "<Figure size 1152x432 with 1 Axes>"
      ]
     },
     "metadata": {
      "needs_background": "light"
     },
     "output_type": "display_data"
    }
   ],
   "source": [
    "plt.figure(figsize=(16, 6))\n",
    "sns.boxplot(x='children',y='y',data=train)"
   ]
  },
  {
   "cell_type": "markdown",
   "metadata": {},
   "source": [
    "Aparentemente, el número de hijos tampoco sería un buen determinante del precio de un seguro médico si visualizamos el diagrama de boxplot."
   ]
  },
  {
   "cell_type": "code",
   "execution_count": 23,
   "metadata": {
    "scrolled": false
   },
   "outputs": [
    {
     "name": "stdout",
     "output_type": "stream",
     "text": [
      "              bmi         age\n",
      "count  896.000000  896.000000\n",
      "mean    30.542617   39.234375\n",
      "std      5.984036   14.212151\n",
      "min     15.960000   18.000000\n",
      "25%     26.272500   27.000000\n",
      "50%     30.230000   39.000000\n",
      "75%     34.488750   52.000000\n",
      "max     53.130000   64.000000\n"
     ]
    },
    {
     "data": {
      "image/png": "[encoded data removed]",
      "text/plain": [
       "<Figure size 1296x1440 with 2 Axes>"
      ]
     },
     "metadata": {
      "needs_background": "light"
     },
     "output_type": "display_data"
    }
   ],
   "source": [
    "print(train[numerics].describe())\n",
    "plt.figure(figsize=(18,20))\n",
    "for i, var in enumerate(numerics):\n",
    "    plt.subplot(5,3,i+1)\n",
    "    sns.boxplot(x=train[var])"
   ]
  },
  {
   "cell_type": "markdown",
   "metadata": {},
   "source": [
    "Las personas que se tienen para el conjunto de datos se encuentran entre los 18 y los 64 años de edad.\n",
    "\n",
    "Consideremos los siguientes rangos de índice de masa corporal para interpretar mejor los resultados:\n",
    "- **Bajo peso**: Por debajo de 18.5\n",
    "- **Normal**: 18.5-24-9\n",
    "- **25.0-29.9**: Sobrepeso\n",
    "- **30.0 o más**: Obeso\n",
    "\n",
    "\n",
    "En cuanto a la descripción de las variables numéricas se puede observar que el *bmi* medio es de 30.54, un valor bastante alto considerando los valores normales de nivel de peso. Adicionalmente, el percentil 50 muestra que más de la mitad de las personas de la base de datos son obesas y que menos del 25% de las personas se encuentran en un rango normal de peso. \n",
    "\n",
    "Esto podría generar que los datos se encuentren sesgados a cierta población en particular, sin embargo, para la base de datos de testeo, se observa que el comportamiento es similar por la tendencia de obesidad en las personas. Seguramente el modelo no se puede generalizar con una población con características diferentes a las observadas en el conjunto de ambas bases de datos."
   ]
  },
  {
   "cell_type": "code",
   "execution_count": 24,
   "metadata": {
    "scrolled": false
   },
   "outputs": [
    {
     "data": {
      "text/plain": [
       "<seaborn.axisgrid.FacetGrid at 0x7fd7cbd3edf0>"
      ]
     },
     "execution_count": 24,
     "metadata": {},
     "output_type": "execute_result"
    },
    {
     "data": {
      "text/plain": [
       "<Figure size 1152x432 with 0 Axes>"
      ]
     },
     "metadata": {},
     "output_type": "display_data"
    },
    {
     "data": {
      "image/png": "[encoded data removed]",
      "text/plain": [
       "<Figure size 360x360 with 1 Axes>"
      ]
     },
     "metadata": {
      "needs_background": "light"
     },
     "output_type": "display_data"
    }
   ],
   "source": [
    "plt.figure(figsize=(16, 6))\n",
    "sns.lmplot(x='bmi',y='y',data=train)"
   ]
  },
  {
   "cell_type": "code",
   "execution_count": 25,
   "metadata": {
    "scrolled": false
   },
   "outputs": [
    {
     "data": {
      "text/plain": [
       "<seaborn.axisgrid.FacetGrid at 0x7fd7d127bf10>"
      ]
     },
     "execution_count": 25,
     "metadata": {},
     "output_type": "execute_result"
    },
    {
     "data": {
      "text/plain": [
       "<Figure size 1152x432 with 0 Axes>"
      ]
     },
     "metadata": {},
     "output_type": "display_data"
    },
    {
     "data": {
      "image/png": "[encoded data removed]",
      "text/plain": [
       "<Figure size 360x360 with 1 Axes>"
      ]
     },
     "metadata": {
      "needs_background": "light"
     },
     "output_type": "display_data"
    }
   ],
   "source": [
    "plt.figure(figsize=(16, 6))\n",
    "sns.lmplot(x='age',y='y',data=train)"
   ]
  },
  {
   "cell_type": "code",
   "execution_count": 26,
   "metadata": {
    "scrolled": false
   },
   "outputs": [
    {
     "data": {
      "text/plain": [
       "<AxesSubplot:xlabel='age', ylabel='y'>"
      ]
     },
     "execution_count": 26,
     "metadata": {},
     "output_type": "execute_result"
    },
    {
     "data": {
      "image/png": "[encoded data removed]",
      "text/plain": [
       "<Figure size 1152x432 with 1 Axes>"
      ]
     },
     "metadata": {
      "needs_background": "light"
     },
     "output_type": "display_data"
    }
   ],
   "source": [
    "plt.figure(figsize=(16, 6))\n",
    "sns.boxplot(x='age',y='y',data=train)"
   ]
  },
  {
   "cell_type": "markdown",
   "metadata": {},
   "source": [
    "Las gráficas muestran una tendencia para ambas variables numéricas. A medida que aumenta la edad o el *ibm*, aumentan los precios de los seguros médicos. A pesar de esto, se observa que hay una gran dispersión en los datos lo que se ve reflejado en la presencia de valores atípicos. \n",
    "\n",
    "Adicionalmente, para la edad, se observa una aparente partición lineal en 3 grupos."
   ]
  },
  {
   "cell_type": "markdown",
   "metadata": {},
   "source": [
    "### Matriz de Correlación de Variables"
   ]
  },
  {
   "cell_type": "markdown",
   "metadata": {},
   "source": [
    "Ahora realicemos el cambio de valores en las variables categóricas binarias para pasarlas a variables categóricas dummy y hacer un análisis de correlación entre estas variables con la variable objetivo. "
   ]
  },
  {
   "cell_type": "code",
   "execution_count": 27,
   "metadata": {},
   "outputs": [],
   "source": [
    "#Cambio de valores \"yes\" por 1 y \"no\" por 0 en la variable 'smoker'\n",
    "\n",
    "smoker = ['smoker']\n",
    "dummy_dicc = {'yes':1,'no':0}\n",
    "for col in smoker:\n",
    "    train[col] = train[col].map(dummy_dicc)"
   ]
  },
  {
   "cell_type": "code",
   "execution_count": 28,
   "metadata": {},
   "outputs": [],
   "source": [
    "#Cambio de valores \"male\" por 1 y \"female\" por 0 en la variable 'sex'\n",
    "\n",
    "sex = ['sex']\n",
    "dummy_dicc = {'male':1,'female':0}\n",
    "for col in sex:\n",
    "    train[col] = train[col].map(dummy_dicc)"
   ]
  },
  {
   "cell_type": "markdown",
   "metadata": {},
   "source": [
    "Haremos algo similar para la variable *region*, agregando valores numéricos a la variable con el fin de evidenciar si la región muestra alguna correlación. "
   ]
  },
  {
   "cell_type": "code",
   "execution_count": 29,
   "metadata": {},
   "outputs": [
    {
     "data": {
      "text/plain": [
       "array(['northeast', 'southwest', 'northwest', 'southeast'], dtype=object)"
      ]
     },
     "execution_count": 29,
     "metadata": {},
     "output_type": "execute_result"
    }
   ],
   "source": [
    "train['region'].unique()"
   ]
  },
  {
   "cell_type": "code",
   "execution_count": 30,
   "metadata": {},
   "outputs": [],
   "source": [
    "region = ['region_num']\n",
    "num_dicc = {'northeast':1,'southwest':2,'northwest':3, 'southeast':4}\n",
    "for col in region:\n",
    "    train[col] = train['region'].map(num_dicc)\n",
    "    \n",
    "train['region_num']=train['region_num'].astype(int)"
   ]
  },
  {
   "cell_type": "code",
   "execution_count": 31,
   "metadata": {},
   "outputs": [],
   "source": [
    "num_to_dummy = ['children']"
   ]
  },
  {
   "cell_type": "code",
   "execution_count": 32,
   "metadata": {},
   "outputs": [],
   "source": [
    "train[num_to_dummy] = (train[num_to_dummy].astype(int)>0).astype(int)"
   ]
  },
  {
   "cell_type": "code",
   "execution_count": 33,
   "metadata": {},
   "outputs": [],
   "source": [
    "variables= ['smoker','age','bmi','sex','children','region_num']"
   ]
  },
  {
   "cell_type": "code",
   "execution_count": 34,
   "metadata": {
    "scrolled": false
   },
   "outputs": [
    {
     "data": {
      "image/png": "[encoded data removed]",
      "text/plain": [
       "<Figure size 1152x432 with 2 Axes>"
      ]
     },
     "metadata": {
      "needs_background": "light"
     },
     "output_type": "display_data"
    }
   ],
   "source": [
    "matriz_corr_1 = train[variables + ['y']].corr()\n",
    "plt.figure(figsize=(16,6))\n",
    "sns.heatmap(matriz_corr_1, cmap=\"coolwarm\",annot=True)\n",
    "plt.show()"
   ]
  },
  {
   "cell_type": "markdown",
   "metadata": {},
   "source": [
    "Se observa que la variable con correlación más alta es la variable *smoker*. Por facilidad, esta será la variable que se utilzará para el baseline modelo. Además de esto la variable *age* y *bmi* también muestran una correlación positiva y alta en relación con las otras variables. \n",
    "\n",
    "En las otras variables no se observa una posible correlación de las mismas respecto al precio de los seguros médicos, sin embargo, se seguirán teniendo en cuenta para el análisis pues pueden llegar a tener una relación si las analizamos de manera simultánea. "
   ]
  },
  {
   "cell_type": "markdown",
   "metadata": {},
   "source": [
    "## Variable Objetivo"
   ]
  },
  {
   "cell_type": "code",
   "execution_count": 35,
   "metadata": {
    "scrolled": false
   },
   "outputs": [
    {
     "name": "stdout",
     "output_type": "stream",
     "text": [
      "count      896.000000\n",
      "mean     13379.688250\n",
      "std      12110.713713\n",
      "min       1121.873900\n",
      "25%       4819.842913\n",
      "50%       9556.297050\n",
      "75%      17092.916520\n",
      "max      62592.873090\n",
      "Name: y, dtype: float64\n"
     ]
    },
    {
     "data": {
      "text/plain": [
       "<AxesSubplot:xlabel='y'>"
      ]
     },
     "execution_count": 35,
     "metadata": {},
     "output_type": "execute_result"
    },
    {
     "data": {
      "image/png": "[encoded data removed]",
      "text/plain": [
       "<Figure size 432x288 with 1 Axes>"
      ]
     },
     "metadata": {
      "needs_background": "light"
     },
     "output_type": "display_data"
    }
   ],
   "source": [
    "print(train['y'].describe())\n",
    "sns.boxplot(x=train['y'])"
   ]
  },
  {
   "cell_type": "markdown",
   "metadata": {},
   "source": [
    "La media del costo de los seguros médicos es de 13.379, con un valor máximo de 62.592 y un mínimo de 1.121. Sin embargo, casi la totalidad de los precios del seguro médico se encuentran por debajo de los 35.000."
   ]
  },
  {
   "cell_type": "markdown",
   "metadata": {},
   "source": [
    "# Modelos"
   ]
  },
  {
   "cell_type": "markdown",
   "metadata": {
    "id": "VsapwK1Ix0sS"
   },
   "source": [
    "## Baseline:\n",
    "\n",
    "Para el Baseline, como se mencionó con anterioridad, se tendrá en cuenta que aparentemente la variable que tiene mayor correlación según el análisis exploratorio de los datos es la variable *smoker*. Calcularemos entonces el promedio del precio del seguro médico a partir de esta variable para nuestro primer modelo."
   ]
  },
  {
   "cell_type": "code",
   "execution_count": 36,
   "metadata": {},
   "outputs": [
    {
     "name": "stdout",
     "output_type": "stream",
     "text": [
      "Model used:\n",
      "\tPipeline(steps=[('avarage-baseline', AverageYSmokerRegressor())])\n",
      "Error:\n",
      "\ttrain set 6126.26705700578\n",
      "\ttest error: 5905.373903078753\n"
     ]
    }
   ],
   "source": [
    "model_path = os.path.join(\"models\", \"baseline\", \"model.joblib\")\n",
    "reg = joblib.load(model_path)\n",
    "\n",
    "evaluation = evaluate_model(\n",
    "    model = reg,\n",
    "    metric = metrics.custom_error,\n",
    "    X_train = data[\"train\"][0],\n",
    "    y_train = data[\"train\"][1],\n",
    "    X_test = data[\"test\"][0],\n",
    "    y_test = data[\"test\"][1]\n",
    ")\n",
    "\n",
    "print_report(model=reg, evaluation=evaluation)"
   ]
  },
  {
   "cell_type": "markdown",
   "metadata": {},
   "source": [
    "De igual forma, a pesar de que la correlación en esta variable fue alta, se debe tener en cuenta que la variable es de tipo binaria y se están dejando por fuera el resto de los factores que pueden llegar a afectar el precio del seguro médico. "
   ]
  },
  {
   "cell_type": "markdown",
   "metadata": {},
   "source": [
    "## Linear Regression Model:"
   ]
  },
  {
   "cell_type": "code",
   "execution_count": 37,
   "metadata": {
    "scrolled": false
   },
   "outputs": [
    {
     "name": "stdout",
     "output_type": "stream",
     "text": [
      "Model used:\n",
      "\tPipeline(steps=[('average-price-extractor', AverageYSmokerExtractor()),\n",
      "                ('categorical-encoder',\n",
      "                 CategoricalEncoder(force_dense_array=True, one_hot=True)),\n",
      "                ('standard-scaler', StandardScaler()),\n",
      "                ('linear-regressor', LinearRegression())])\n",
      "Error:\n",
      "\ttrain set 6140.909618794448\n",
      "\ttest error: 6028.035012451037\n"
     ]
    }
   ],
   "source": [
    "model_path = os.path.join(\"models\", \"linear_regressor\", \"model.joblib\")\n",
    "reg = joblib.load(model_path)\n",
    "evaluation = evaluate_model(\n",
    "    model=reg,\n",
    "    metric=metrics.custom_error,\n",
    "    X_train=data[\"train\"][0],\n",
    "    y_train=data[\"train\"][1],\n",
    "    X_test=data[\"test\"][0],\n",
    "    y_test=data[\"test\"][1]\n",
    ")\n",
    "print_report(model=reg, evaluation=evaluation)"
   ]
  },
  {
   "cell_type": "markdown",
   "metadata": {},
   "source": [
    "## Linear regression with Feature Engineering:"
   ]
  },
  {
   "cell_type": "code",
   "execution_count": 38,
   "metadata": {
    "scrolled": true
   },
   "outputs": [
    {
     "name": "stdout",
     "output_type": "stream",
     "text": [
      "Model used:\n",
      "\tPipeline(steps=[('average-price-extractor', AverageYSmokerExtractor()),\n",
      "                ('categorical-encoder',\n",
      "                 CategoricalEncoder(force_dense_array=True)),\n",
      "                ('crosser', PolynomialFeatures()),\n",
      "                ('standard-scaler', StandardScaler()),\n",
      "                ('linear-regressor', LinearRegression())])\n",
      "Error:\n",
      "\ttrain set 5964.333468496456\n",
      "\ttest error: 5912.494426542673\n"
     ]
    }
   ],
   "source": [
    "model_path = os.path.join(\"models\", \"feature_engineering\", \"model.joblib\")\n",
    "reg = joblib.load(model_path)\n",
    "evaluation = evaluate_model(\n",
    "    model=reg,\n",
    "    metric=metrics.custom_error,\n",
    "    X_train=data[\"train\"][0],\n",
    "    y_train=data[\"train\"][1],\n",
    "    X_test=data[\"test\"][0],\n",
    "    y_test=data[\"test\"][1]\n",
    ")\n",
    "print_report(model=reg, evaluation=evaluation)"
   ]
  },
  {
   "cell_type": "markdown",
   "metadata": {},
   "source": [
    "## Bagging Regressor"
   ]
  },
  {
   "cell_type": "code",
   "execution_count": 92,
   "metadata": {
    "scrolled": false
   },
   "outputs": [
    {
     "name": "stdout",
     "output_type": "stream",
     "text": [
      "Model used:\n",
      "\tPipeline(steps=[('categorical-encoder',\n",
      "                 CategoricalEncoder(force_dense_array=True)),\n",
      "                ('crosser', PolynomialFeatures()),\n",
      "                ('standard-scaler', StandardScaler()),\n",
      "                ('bagging', BaggingRegressor())])\n",
      "Error:\n",
      "\ttrain set 5445.209925259636\n",
      "\ttest error: 5840.519395252482\n",
      "/home/sant_vel/anaconda3/lib/python3.8/site-packages/sklearn/base.py:329: UserWarning: Trying to unpickle estimator OrdinalEncoder from version 0.24.1 when using version 0.23.1. This might lead to breaking code or invalid results. Use at your own risk.\n",
      "  warnings.warn(\n",
      "/home/sant_vel/anaconda3/lib/python3.8/site-packages/sklearn/base.py:329: UserWarning: Trying to unpickle estimator ColumnTransformer from version 0.24.1 when using version 0.23.1. This might lead to breaking code or invalid results. Use at your own risk.\n",
      "  warnings.warn(\n",
      "/home/sant_vel/anaconda3/lib/python3.8/site-packages/sklearn/base.py:329: UserWarning: Trying to unpickle estimator PolynomialFeatures from version 0.24.1 when using version 0.23.1. This might lead to breaking code or invalid results. Use at your own risk.\n",
      "  warnings.warn(\n",
      "/home/sant_vel/anaconda3/lib/python3.8/site-packages/sklearn/base.py:329: UserWarning: Trying to unpickle estimator StandardScaler from version 0.24.1 when using version 0.23.1. This might lead to breaking code or invalid results. Use at your own risk.\n",
      "  warnings.warn(\n",
      "/home/sant_vel/anaconda3/lib/python3.8/site-packages/sklearn/base.py:329: UserWarning: Trying to unpickle estimator DecisionTreeRegressor from version 0.24.1 when using version 0.23.1. This might lead to breaking code or invalid results. Use at your own risk.\n",
      "  warnings.warn(\n",
      "/home/sant_vel/anaconda3/lib/python3.8/site-packages/sklearn/base.py:329: UserWarning: Trying to unpickle estimator BaggingRegressor from version 0.24.1 when using version 0.23.1. This might lead to breaking code or invalid results. Use at your own risk.\n",
      "  warnings.warn(\n",
      "/home/sant_vel/anaconda3/lib/python3.8/site-packages/sklearn/base.py:329: UserWarning: Trying to unpickle estimator Pipeline from version 0.24.1 when using version 0.23.1. This might lead to breaking code or invalid results. Use at your own risk.\n",
      "  warnings.warn(\n"
     ]
    }
   ],
   "source": [
    "model_path = os.path.join(\"models\", \"bagging_regressor\", \"model.joblib\")\n",
    "reg = joblib.load(model_path)\n",
    "evaluation = evaluate_model(\n",
    "    model=reg,\n",
    "    metric=metrics.custom_error,\n",
    "    X_train=data[\"train\"][0],\n",
    "    y_train=data[\"train\"][1],\n",
    "    X_test=data[\"test\"][0],\n",
    "    y_test=data[\"test\"][1]\n",
    ")\n",
    "print_report(model=reg, evaluation=evaluation)"
   ]
  },
  {
   "cell_type": "markdown",
   "metadata": {},
   "source": [
    "## Gradient Boosting Regressor"
   ]
  },
  {
   "cell_type": "code",
   "execution_count": 93,
   "metadata": {},
   "outputs": [
    {
     "name": "stdout",
     "output_type": "stream",
     "text": [
      "Model used:\n",
      "\tPipeline(steps=[('categorical-encoder',\n",
      "                 CategoricalEncoder(force_dense_array=True)),\n",
      "                ('crosser', PolynomialFeatures()),\n",
      "                ('standard-scaler', StandardScaler()),\n",
      "                ('gradient', GradientBoostingRegressor(presort=None))])\n",
      "Error:\n",
      "\ttrain set 5497.339437739069\n",
      "\ttest error: 5762.867552635695\n",
      "/home/sant_vel/anaconda3/lib/python3.8/site-packages/sklearn/base.py:329: UserWarning: Trying to unpickle estimator OrdinalEncoder from version 0.24.1 when using version 0.23.1. This might lead to breaking code or invalid results. Use at your own risk.\n",
      "  warnings.warn(\n",
      "/home/sant_vel/anaconda3/lib/python3.8/site-packages/sklearn/base.py:329: UserWarning: Trying to unpickle estimator ColumnTransformer from version 0.24.1 when using version 0.23.1. This might lead to breaking code or invalid results. Use at your own risk.\n",
      "  warnings.warn(\n",
      "/home/sant_vel/anaconda3/lib/python3.8/site-packages/sklearn/base.py:329: UserWarning: Trying to unpickle estimator PolynomialFeatures from version 0.24.1 when using version 0.23.1. This might lead to breaking code or invalid results. Use at your own risk.\n",
      "  warnings.warn(\n",
      "/home/sant_vel/anaconda3/lib/python3.8/site-packages/sklearn/base.py:329: UserWarning: Trying to unpickle estimator StandardScaler from version 0.24.1 when using version 0.23.1. This might lead to breaking code or invalid results. Use at your own risk.\n",
      "  warnings.warn(\n",
      "/home/sant_vel/anaconda3/lib/python3.8/site-packages/sklearn/base.py:329: UserWarning: Trying to unpickle estimator DummyRegressor from version 0.24.1 when using version 0.23.1. This might lead to breaking code or invalid results. Use at your own risk.\n",
      "  warnings.warn(\n",
      "/home/sant_vel/anaconda3/lib/python3.8/site-packages/sklearn/base.py:329: UserWarning: Trying to unpickle estimator DecisionTreeRegressor from version 0.24.1 when using version 0.23.1. This might lead to breaking code or invalid results. Use at your own risk.\n",
      "  warnings.warn(\n",
      "/home/sant_vel/anaconda3/lib/python3.8/site-packages/sklearn/base.py:329: UserWarning: Trying to unpickle estimator GradientBoostingRegressor from version 0.24.1 when using version 0.23.1. This might lead to breaking code or invalid results. Use at your own risk.\n",
      "  warnings.warn(\n",
      "/home/sant_vel/anaconda3/lib/python3.8/site-packages/sklearn/base.py:329: UserWarning: Trying to unpickle estimator Pipeline from version 0.24.1 when using version 0.23.1. This might lead to breaking code or invalid results. Use at your own risk.\n",
      "  warnings.warn(\n",
      "/home/sant_vel/anaconda3/lib/python3.8/site-packages/sklearn/base.py:209: FutureWarning: From version 0.24, get_params will raise an AttributeError if a parameter cannot be retrieved as an instance attribute. Previously it would return None.\n",
      "  warnings.warn('From version 0.24, get_params will raise an '\n"
     ]
    }
   ],
   "source": [
    "model_path = os.path.join(\"models\", \"gradient_boosting_regressor\", \"model.joblib\")\n",
    "reg = joblib.load(model_path)\n",
    "evaluation = evaluate_model(\n",
    "    model=reg,\n",
    "    metric=metrics.custom_error,\n",
    "    X_train=data[\"train\"][0],\n",
    "    y_train=data[\"train\"][1],\n",
    "    X_test=data[\"test\"][0],\n",
    "    y_test=data[\"test\"][1]\n",
    ")\n",
    "print_report(model=reg, evaluation=evaluation)"
   ]
  },
  {
   "cell_type": "markdown",
   "metadata": {},
   "source": [
    "## Random Forest Regressor"
   ]
  },
  {
   "cell_type": "code",
   "execution_count": 94,
   "metadata": {},
   "outputs": [
    {
     "name": "stderr",
     "output_type": "stream",
     "text": [
      "/home/sant_vel/anaconda3/lib/python3.8/site-packages/sklearn/base.py:329: UserWarning: Trying to unpickle estimator KBinsDiscretizer from version 0.24.1 when using version 0.23.1. This might lead to breaking code or invalid results. Use at your own risk.\n",
      "  warnings.warn(\n",
      "/home/sant_vel/anaconda3/lib/python3.8/site-packages/sklearn/base.py:329: UserWarning: Trying to unpickle estimator ColumnTransformer from version 0.24.1 when using version 0.23.1. This might lead to breaking code or invalid results. Use at your own risk.\n",
      "  warnings.warn(\n",
      "/home/sant_vel/anaconda3/lib/python3.8/site-packages/sklearn/base.py:329: UserWarning: Trying to unpickle estimator OrdinalEncoder from version 0.24.1 when using version 0.23.1. This might lead to breaking code or invalid results. Use at your own risk.\n",
      "  warnings.warn(\n",
      "/home/sant_vel/anaconda3/lib/python3.8/site-packages/sklearn/base.py:329: UserWarning: Trying to unpickle estimator PolynomialFeatures from version 0.24.1 when using version 0.23.1. This might lead to breaking code or invalid results. Use at your own risk.\n",
      "  warnings.warn(\n",
      "/home/sant_vel/anaconda3/lib/python3.8/site-packages/sklearn/base.py:329: UserWarning: Trying to unpickle estimator StandardScaler from version 0.24.1 when using version 0.23.1. This might lead to breaking code or invalid results. Use at your own risk.\n",
      "  warnings.warn(\n",
      "/home/sant_vel/anaconda3/lib/python3.8/site-packages/sklearn/base.py:329: UserWarning: Trying to unpickle estimator DecisionTreeRegressor from version 0.24.1 when using version 0.23.1. This might lead to breaking code or invalid results. Use at your own risk.\n",
      "  warnings.warn(\n",
      "/home/sant_vel/anaconda3/lib/python3.8/site-packages/sklearn/base.py:329: UserWarning: Trying to unpickle estimator RandomForestRegressor from version 0.24.1 when using version 0.23.1. This might lead to breaking code or invalid results. Use at your own risk.\n",
      "  warnings.warn(\n",
      "/home/sant_vel/anaconda3/lib/python3.8/site-packages/sklearn/base.py:329: UserWarning: Trying to unpickle estimator Pipeline from version 0.24.1 when using version 0.23.1. This might lead to breaking code or invalid results. Use at your own risk.\n",
      "  warnings.warn(\n",
      "Model used:\n",
      "\tPipeline(steps=[('discretizer',\n",
      "                 Discretizer(bins_per_column={'age': 15, 'bmi': 15},\n",
      "                             strategy='kmeans')),\n",
      "                ('categorical-encoder',\n",
      "                 CategoricalEncoder(force_dense_array=True)),\n",
      "                ('crosser', PolynomialFeatures()),\n",
      "                ('standard-scaler', StandardScaler()),\n",
      "                ('random-forest', RandomForestRegressor())])\n",
      "Error:\n",
      "\ttrain set 5364.320082330173\n",
      "\ttest error: 5795.032968052729\n"
     ]
    }
   ],
   "source": [
    "model_path = os.path.join(\"models\", \"random_forest\", \"model.joblib\")\n",
    "reg = joblib.load(model_path)\n",
    "evaluation = evaluate_model(\n",
    "    model=reg,\n",
    "    metric=metrics.custom_error,\n",
    "    X_train=data[\"train\"][0],\n",
    "    y_train=data[\"train\"][1],\n",
    "    X_test=data[\"test\"][0],\n",
    "    y_test=data[\"test\"][1]\n",
    ")\n",
    "print_report(model=reg, evaluation=evaluation)"
   ]
  },
  {
   "cell_type": "markdown",
   "metadata": {},
   "source": [
    "## Decision Tree Regressor"
   ]
  },
  {
   "cell_type": "code",
   "execution_count": 95,
   "metadata": {},
   "outputs": [
    {
     "name": "stderr",
     "output_type": "stream",
     "text": [
      "/home/sant_vel/anaconda3/lib/python3.8/site-packages/sklearn/base.py:329: UserWarning: Trying to unpickle estimator KBinsDiscretizer from version 0.24.1 when using version 0.23.1. This might lead to breaking code or invalid results. Use at your own risk.\n",
      "  warnings.warn(\n",
      "/home/sant_vel/anaconda3/lib/python3.8/site-packages/sklearn/base.py:329: UserWarning: Trying to unpickle estimator ColumnTransformer from version 0.24.1 when using version 0.23.1. This might lead to breaking code or invalid results. Use at your own risk.\n",
      "  warnings.warn(\n",
      "/home/sant_vel/anaconda3/lib/python3.8/site-packages/sklearn/base.py:329: UserWarning: Trying to unpickle estimator OrdinalEncoder from version 0.24.1 when using version 0.23.1. This might lead to breaking code or invalid results. Use at your own risk.\n",
      "  warnings.warn(\n",
      "/home/sant_vel/anaconda3/lib/python3.8/site-packages/sklearn/base.py:329: UserWarning: Trying to unpickle estimator PolynomialFeatures from version 0.24.1 when using version 0.23.1. This might lead to breaking code or invalid results. Use at your own risk.\n",
      "  warnings.warn(\n",
      "Model used:\n",
      "\tPipeline(steps=[('discretizer',\n",
      "                 Discretizer(bins_per_column={'age': 4, 'bmi': 4},\n",
      "                             strategy='kmeans')),\n",
      "                ('categorical-encoder',\n",
      "                 CategoricalEncoder(force_dense_array=True)),\n",
      "                ('crosser', PolynomialFeatures()),\n",
      "                ('standard-scaler', StandardScaler()),\n",
      "                ('decision-tree', DecisionTreeRegressor(presort=None))])\n",
      "Error:\n",
      "\ttrain set 5299.007106313046\n",
      "\ttest error: 5824.166559421587\n",
      "/home/sant_vel/anaconda3/lib/python3.8/site-packages/sklearn/base.py:329: UserWarning: Trying to unpickle estimator StandardScaler from version 0.24.1 when using version 0.23.1. This might lead to breaking code or invalid results. Use at your own risk.\n",
      "  warnings.warn(\n",
      "/home/sant_vel/anaconda3/lib/python3.8/site-packages/sklearn/base.py:329: UserWarning: Trying to unpickle estimator DecisionTreeRegressor from version 0.24.1 when using version 0.23.1. This might lead to breaking code or invalid results. Use at your own risk.\n",
      "  warnings.warn(\n",
      "/home/sant_vel/anaconda3/lib/python3.8/site-packages/sklearn/base.py:329: UserWarning: Trying to unpickle estimator Pipeline from version 0.24.1 when using version 0.23.1. This might lead to breaking code or invalid results. Use at your own risk.\n",
      "  warnings.warn(\n",
      "/home/sant_vel/anaconda3/lib/python3.8/site-packages/sklearn/base.py:209: FutureWarning: From version 0.24, get_params will raise an AttributeError if a parameter cannot be retrieved as an instance attribute. Previously it would return None.\n",
      "  warnings.warn('From version 0.24, get_params will raise an '\n"
     ]
    }
   ],
   "source": [
    "model_path = os.path.join(\"models\", \"decision_tree\", \"model.joblib\")\n",
    "reg = joblib.load(model_path)\n",
    "evaluation = evaluate_model(\n",
    "    model=reg,\n",
    "    metric=metrics.custom_error,\n",
    "    X_train=data[\"train\"][0],\n",
    "    y_train=data[\"train\"][1],\n",
    "    X_test=data[\"test\"][0],\n",
    "    y_test=data[\"test\"][1]\n",
    ")\n",
    "print_report(model=reg, evaluation=evaluation)"
   ]
  },
  {
   "cell_type": "markdown",
   "metadata": {},
   "source": [
    "# Hipótesis de Error \n",
    "\n",
    "## Valores Atípicos\n",
    "\n",
    "Es bien sabido que los valores atípicos requieren de un pretratamiendo debido a que pueden sesgar el modelo, por lo tanto, sería pertinente que se crearán variables nuevas que tengan las correcciones adecuadas de estos valores.\n",
    "\n",
    "Si observamos en el análisis exploratorio, para las variables en donde había presencia de outliers, todos tendían a estar por encima, lo que se puede ver reflejado en una sobreestimación del costo del seguro médico. \n",
    "\n",
    "Para el tratamiento de datos atípicos podría usarse el método del Rango Intercuantil, donde, una vez identificados los datos atípicos, estos serían reemplazados por el máximo o el mínimo de los datos sin outliers y posteriormente guardados en una variable nueva. El rango intercuantil se calcularía con los datos de entrenamiento y sería utilizado tanto en el conjunto de datos de entrenamiento como en el de testeo para encontrar los outliers.\n",
    "\n",
    "## Valores por Defecto en los Modelos\n",
    "\n",
    "Para todos los modelos utilizados, se utilizaron los valores por defecto que tenía el modelo de regresión. Sería importante revisar cada uno de los parámetros del modelo con el fin de escoger los valores más adecuados para el conjunto de datos que se está trabajando.\n",
    "\n",
    "## One Hot Encoding\n",
    "\n",
    "Al ensayar varios modelos, se observa que discretizar las características no tiende a mejorarlo. Al igual que como se realizó para el análisis exploratorio, podríamos hacer One-Hot-Encoding en el modelo en las variables binarias para facilitar el análisis. Adicionalmente, se podrían discretizar las variables numéricas de forma que se pueda hacer también one-hot-encoding con las mismas; sin embargo, valdría la pena realizar un análisis exploratorio más profundo de los datos de forma que las variables utilizadas puedan ser discretizadas de la mejor manera. "
   ]
  },
  {
   "cell_type": "markdown",
   "metadata": {},
   "source": [
    "# Envío de Reporte"
   ]
  },
  {
   "cell_type": "code",
   "execution_count": 110,
   "metadata": {},
   "outputs": [],
   "source": [
    "nombres = \"Santiago Velásquez Hernández, CC. 1036647710; Carolina González Marín, CC. 1017251647\"\n",
    "mails = \"carolina.gonzalezm1@udea.edu.co\"\n",
    "URL = \"https://qzbbjszmjk.execute-api.us-east-1.amazonaws.com/dev\""
   ]
  },
  {
   "cell_type": "code",
   "execution_count": 97,
   "metadata": {},
   "outputs": [],
   "source": [
    "X_test_regression = pd.read_csv(\"./data/test_regression_students.csv\")"
   ]
  },
  {
   "cell_type": "code",
   "execution_count": null,
   "metadata": {},
   "outputs": [],
   "source": [
    "X_test_regression"
   ]
  },
  {
   "cell_type": "code",
   "execution_count": 105,
   "metadata": {},
   "outputs": [],
   "source": [
    "X_test_regression['children'] = X_test_regression['children'].astype(str)"
   ]
  },
  {
   "cell_type": "code",
   "execution_count": 107,
   "metadata": {
    "scrolled": false
   },
   "outputs": [],
   "source": [
    "y_pred_regression = list(reg.predict(X_test_regression))"
   ]
  },
  {
   "cell_type": "code",
   "execution_count": 111,
   "metadata": {},
   "outputs": [],
   "source": [
    "results = {\"id\": nombres ,\"email\": mails, \"task_type\": \"Regression\" ,\"predictions\": y_pred_regression}\n",
    "headers = {'Content-type': 'application/json', 'Accept': 'text/plain'}"
   ]
  },
  {
   "cell_type": "code",
   "execution_count": 116,
   "metadata": {},
   "outputs": [],
   "source": [
    "# Descomentar solo para envio de reporte \n",
    "\n",
    "#r = requests.post(url= URL+\"/benchmarkin/\", data = json.dumps(results) , headers=headers)"
   ]
  },
  {
   "cell_type": "code",
   "execution_count": 118,
   "metadata": {},
   "outputs": [
    {
     "data": {
      "text/plain": [
       "'{\"MAE\":6056.260821108606}'"
      ]
     },
     "execution_count": 118,
     "metadata": {},
     "output_type": "execute_result"
    }
   ],
   "source": [
    "r.text"
   ]
  }
 ],
 "metadata": {
  "colab": {
   "collapsed_sections": [],
   "name": "Reporte regresion.ipynb",
   "provenance": []
  },
  "interpreter": {
   "hash": "ec6416b54afbcc36206f698715295a86719eb7874e6d5a689f374b4df672edf6"
  },
  "kernelspec": {
   "display_name": "Python 3",
   "language": "python",
   "name": "python3"
  },
  "language_info": {
   "codemirror_mode": {
    "name": "ipython",
    "version": 3
   },
   "file_extension": ".py",
   "mimetype": "text/x-python",
   "name": "python",
   "nbconvert_exporter": "python",
   "pygments_lexer": "ipython3",
   "version": "3.9.1"
  }
 },
 "nbformat": 4,
 "nbformat_minor": 1
}
